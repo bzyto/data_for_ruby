{
 "cells": [
  {
   "cell_type": "code",
   "execution_count": null,
   "metadata": {},
   "outputs": [],
   "source": [
    "import pandas as pd\n",
    "import numpy as np\n",
    "import matplotlib.pyplot as plt\n"
   ]
  },
  {
   "cell_type": "code",
   "execution_count": null,
   "metadata": {},
   "outputs": [
    {
     "name": "stderr",
     "output_type": "stream",
     "text": [
      "C:\\Users\\borys\\AppData\\Local\\Temp\\ipykernel_11648\\2210071547.py:18: UserWarning: This pattern is interpreted as a regular expression, and has match groups. To actually get the groups, use str.extract.\n",
      "  cracks_all = cracks_all.loc[:, ~cracks_all.columns.str.contains(\"(c/a = 1.5)\")]\n"
     ]
    },
    {
     "data": {
      "text/html": [
       "<div>\n",
       "<style scoped>\n",
       "    .dataframe tbody tr th:only-of-type {\n",
       "        vertical-align: middle;\n",
       "    }\n",
       "\n",
       "    .dataframe tbody tr th {\n",
       "        vertical-align: top;\n",
       "    }\n",
       "\n",
       "    .dataframe thead th {\n",
       "        text-align: right;\n",
       "    }\n",
       "</style>\n",
       "<table border=\"1\" class=\"dataframe\">\n",
       "  <thead>\n",
       "    <tr style=\"text-align: right;\">\n",
       "      <th></th>\n",
       "      <th>Crack 1 Length / mm</th>\n",
       "      <th>Crack 2 Length / mm</th>\n",
       "      <th>Crack 3 Length / mm</th>\n",
       "      <th>Crack 4 Length / mm</th>\n",
       "      <th>Crack 5 Length / mm</th>\n",
       "      <th>Crack 6 Length / mm</th>\n",
       "      <th>Crack 7 Length / mm</th>\n",
       "      <th>Crack 8 Length / mm</th>\n",
       "      <th>Crack 9 Length / mm</th>\n",
       "      <th>Time</th>\n",
       "    </tr>\n",
       "  </thead>\n",
       "  <tbody>\n",
       "    <tr>\n",
       "      <th>0</th>\n",
       "      <td>0.001</td>\n",
       "      <td>0.001</td>\n",
       "      <td>0.001</td>\n",
       "      <td>0.0001</td>\n",
       "      <td>0.0001</td>\n",
       "      <td>0.0001</td>\n",
       "      <td>0.0001</td>\n",
       "      <td>0.01</td>\n",
       "      <td>0.0001</td>\n",
       "      <td>0.000000</td>\n",
       "    </tr>\n",
       "    <tr>\n",
       "      <th>1</th>\n",
       "      <td>0.001</td>\n",
       "      <td>0.001</td>\n",
       "      <td>0.001</td>\n",
       "      <td>0.0001</td>\n",
       "      <td>0.0001</td>\n",
       "      <td>0.0001</td>\n",
       "      <td>0.0001</td>\n",
       "      <td>0.01</td>\n",
       "      <td>0.0001</td>\n",
       "      <td>3.358889</td>\n",
       "    </tr>\n",
       "    <tr>\n",
       "      <th>2</th>\n",
       "      <td>0.001</td>\n",
       "      <td>0.001</td>\n",
       "      <td>0.001</td>\n",
       "      <td>0.0001</td>\n",
       "      <td>0.0001</td>\n",
       "      <td>0.0001</td>\n",
       "      <td>0.0001</td>\n",
       "      <td>0.01</td>\n",
       "      <td>0.0001</td>\n",
       "      <td>6.663611</td>\n",
       "    </tr>\n",
       "    <tr>\n",
       "      <th>3</th>\n",
       "      <td>0.001</td>\n",
       "      <td>0.001</td>\n",
       "      <td>0.001</td>\n",
       "      <td>0.0001</td>\n",
       "      <td>0.0001</td>\n",
       "      <td>0.0001</td>\n",
       "      <td>0.0001</td>\n",
       "      <td>0.01</td>\n",
       "      <td>0.0001</td>\n",
       "      <td>9.940833</td>\n",
       "    </tr>\n",
       "    <tr>\n",
       "      <th>4</th>\n",
       "      <td>0.001</td>\n",
       "      <td>0.001</td>\n",
       "      <td>0.001</td>\n",
       "      <td>0.0001</td>\n",
       "      <td>0.0001</td>\n",
       "      <td>0.0001</td>\n",
       "      <td>0.0001</td>\n",
       "      <td>0.01</td>\n",
       "      <td>0.0001</td>\n",
       "      <td>13.218333</td>\n",
       "    </tr>\n",
       "  </tbody>\n",
       "</table>\n",
       "</div>"
      ],
      "text/plain": [
       "   Crack 1 Length / mm  Crack 2 Length / mm  Crack 3 Length / mm  \\\n",
       "0                0.001                0.001                0.001   \n",
       "1                0.001                0.001                0.001   \n",
       "2                0.001                0.001                0.001   \n",
       "3                0.001                0.001                0.001   \n",
       "4                0.001                0.001                0.001   \n",
       "\n",
       "   Crack 4 Length / mm  Crack 5 Length / mm  Crack 6 Length / mm  \\\n",
       "0               0.0001               0.0001               0.0001   \n",
       "1               0.0001               0.0001               0.0001   \n",
       "2               0.0001               0.0001               0.0001   \n",
       "3               0.0001               0.0001               0.0001   \n",
       "4               0.0001               0.0001               0.0001   \n",
       "\n",
       "   Crack 7 Length / mm  Crack 8 Length / mm  Crack 9 Length / mm       Time  \n",
       "0               0.0001                 0.01               0.0001   0.000000  \n",
       "1               0.0001                 0.01               0.0001   3.358889  \n",
       "2               0.0001                 0.01               0.0001   6.663611  \n",
       "3               0.0001                 0.01               0.0001   9.940833  \n",
       "4               0.0001                 0.01               0.0001  13.218333  "
      ]
     },
     "execution_count": 25,
     "metadata": {},
     "output_type": "execute_result"
    }
   ],
   "source": [
    "def read_excel_file(file_name):\n",
    "    df = pd.read_excel(file_name)\n",
    "    return df\n",
    "filename = \"AA7449-75y.xls\"\n",
    "data1 = read_excel_file(filename)\n",
    "# remove columns with all NaN values\n",
    "data1 = data1.dropna(axis=1, how='all')\n",
    "# remove unnamed columns\n",
    "data1 = data1.loc[:, ~data1.columns.str.contains('^Unnamed')]\n",
    "# remove rows with all NaN values\n",
    "data1 = data1.dropna(axis=0, how='all')\n",
    "cracks_all = data1.loc[:, data1.columns.str.contains('Crack')]\n",
    "cracks_all[\"Time\"] = data1[\"Time\"]\n",
    "cracks_all = cracks_all.loc[:, ~cracks_all.columns.str.contains('Velocity')]\n",
    "cracks_all = cracks_all.loc[:, ~cracks_all.columns.str.contains(\"Length / µm\")]\n",
    "cracks_all = cracks_all.loc[:, ~cracks_all.columns.str.contains(\"(c/a = 1.5)\")]\n",
    "cracks_all.head()\n"
   ]
  },
  {
   "cell_type": "code",
   "execution_count": null,
   "metadata": {},
   "outputs": [],
   "source": [
    "for crack in cracks_all:\n",
    "    if crack == \"Time\":\n",
    "        break\n",
    "    plt.plot(cracks_all[\"Time\"], cracks_all[crack],'o')\n",
    "    plt.title(crack)\n",
    "    plt.xlabel(\"Time  [h]\")\n",
    "    plt.ylabel(\"Crack length  [mm]\")\n",
    "    plt.grid()\n",
    "    plt.show()\n"
   ]
  },
  {
   "cell_type": "code",
   "execution_count": null,
   "metadata": {},
   "outputs": [],
   "source": [
    "for crack in cracks_all:\n",
    "    if crack == \"Time\":\n",
    "        break\n",
    "    plt.plot(cracks_all[\"Time\"], cracks_all[crack], '-o',markersize=3, label=crack)\n",
    "plt.title(\"All crack lengths vs time\\n AA7085-85y\")\n",
    "plt.xlabel(\"Time [h]\")\n",
    "plt.ylabel(\"Crack Length [mm]\")\n",
    "plt.legend()\n",
    "plt.grid()\n",
    "plt.show()\n"
   ]
  },
  {
   "cell_type": "code",
   "execution_count": null,
   "metadata": {},
   "outputs": [],
   "source": [
    "inc_times = []\n",
    "for crack in cracks_all:\n",
    "    if crack == \"Time\":\n",
    "        break\n",
    "    inc_times.append([cracks_all[cracks_all[crack] > 0.01]\n",
    "                     [\"Time\"].iloc[0], cracks_all[crack].max()])\n",
    "inc_times = np.array(inc_times)\n",
    "inc_times\n"
   ]
  },
  {
   "cell_type": "code",
   "execution_count": null,
   "metadata": {},
   "outputs": [],
   "source": [
    "pretty_presentation = pd.DataFrame(columns=[\"Crack\", \"Incubation Time[h]\", \"Final Length [mm]\", \"Arrested\"])\n",
    "i = 0\n",
    "for crack in cracks_all:\n",
    "    arr= False\n",
    "    cag=[]\n",
    "    if crack == \"Time\":\n",
    "        break\n",
    "    cag.append([cracks_all[cracks_all[crack]>0.01][crack],cracks_all[cracks_all[crack]>0.01][\"Time\"]])\n",
    "    lvi = cag[0][0].last_valid_index()\n",
    "    fvi = cag[0][0].first_valid_index()\n",
    "    #getting rid of the points that are the same\n",
    "    #to find the linear fit\n",
    "    while cag[0][0][lvi] == cag[0][0][lvi-1]:\n",
    "        lvi -= 1\n",
    "        arr = True\n",
    "    ### linear fit\n",
    "    if fvi+5<lvi:\n",
    "        lin_fit = np.polyfit(cracks_all[\"Time\"][fvi+5:lvi],cracks_all[crack][fvi+5:lvi],1)\n",
    "    else:\n",
    "        lin_fit = np.polyfit(cracks_all[\"Time\"][fvi:lvi],cracks_all[crack][fvi:lvi],1)\n",
    "    lin_fit_fn = np.poly1d(lin_fit)\n",
    "    #plot linear fit with data\n",
    "    plt.figure()\n",
    "    plt.plot(cracks_all[\"Time\"],cracks_all[crack], 'o',markersize=3, label=\"data\")\n",
    "    plt.plot(cracks_all[\"Time\"][fvi:lvi], lin_fit_fn(cracks_all[\"Time\"][fvi:lvi]), '--', label=\"linear fit\")\n",
    "    plt.legend()\n",
    "    plt.title(f\"Crack {i+1} vs time \\n AA7449-75y\")\n",
    "    plt.ylabel(\"Crack length [mm]\")\n",
    "    plt.xlabel(\"Time [h]\")\n",
    "    plt.grid()\n",
    "    plt.xlim(0,230)\n",
    "    plt.ylim(0,10)\n",
    "    #plt.savefig(f\"AA7085-85/crack{i+1}\")\n",
    "    plt.show()\n",
    "    new_row = {\"Crack\": i+1, \"Incubation Time[h]\": inc_times[i][0], \"Final Length [mm]\": inc_times[i][1], \"Arrested\": arr}\n",
    "    pretty_presentation=pretty_presentation.append(new_row, ignore_index=True)\n",
    "    i += 1\n",
    "\n",
    "    "
   ]
  },
  {
   "cell_type": "code",
   "execution_count": null,
   "metadata": {},
   "outputs": [],
   "source": [
    "pretty_presentation.sort_values(by=[\"Incubation Time[h]\"], inplace=True)\n",
    "pretty_presentation\n"
   ]
  },
  {
   "cell_type": "code",
   "execution_count": null,
   "metadata": {},
   "outputs": [],
   "source": [
    "print(pretty_presentation.to_latex(index=False,\n",
    "                  formatters={\"name\": str.upper},\n",
    "                  float_format=\"{:.2f}\".format,\n",
    "))"
   ]
  },
  {
   "cell_type": "code",
   "execution_count": null,
   "metadata": {},
   "outputs": [],
   "source": [
    "velocities=[]\n",
    "for crack in cracks_all:\n",
    "    local_velocities=[]\n",
    "    if crack == \"Time\":\n",
    "        break\n",
    "    for i in range(len(cracks_all[crack][1:-1])):\n",
    "        v = (cracks_all[crack][i+1]-cracks_all[crack][i])/(cracks_all[\"Time\"][i+1]-cracks_all[\"Time\"][i])\n",
    "        local_velocities.append(v)\n",
    "    velocities.append(local_velocities)\n",
    "    print(velocities)\n",
    "for crack in cracks_all:\n",
    "    i=0\n",
    "    if crack == \"Time\":\n",
    "        break\n",
    "    plt.plot(cracks_all[\"Time\"][1:-1],velocities[i], '-o',markersize=3, label=crack)\n",
    "    plt.show()\n"
   ]
  },
  {
   "cell_type": "code",
   "execution_count": null,
   "metadata": {},
   "outputs": [],
   "source": [
    "for crack in cracks_all:\n",
    "    if crack == \"Time\":\n",
    "        break\n",
    "    plt.plot(cracks_all[\"Time\"], np.gradient(cracks_all[crack],cracks_all[\"Time\"], edge_order=2), '-o',markersize=3, label=crack)\n",
    "    print(np.gradient(cracks_all[crack],cracks_all[\"Time\"]))\n",
    "    plt.show()"
   ]
  },
  {
   "cell_type": "code",
   "execution_count": null,
   "metadata": {},
   "outputs": [],
   "source": [
    "import ruptures as rpt\n",
    "for crack in cracks_all:\n",
    "    if crack == \"Time\":\n",
    "        break\n",
    "    print(my_bkps)\n"
   ]
  },
  {
   "cell_type": "code",
   "execution_count": null,
   "metadata": {},
   "outputs": [],
   "source": [
    "# creation of data\n",
    "n, dim = 500, 3\n",
    "n_bkps, sigma = 3, 1\n",
    "signal, bkps = rpt.pw_constant(n, dim, n_bkps, noise_std=sigma)\n",
    "\n",
    "# change point detection\n",
    "model = \"l1\"  # \"l2\", \"rbf\"\n",
    "algo = rpt.Pelt(model=model, min_size=3, jump=5).fit(signal)\n",
    "my_bkps = algo.predict(pen=3)\n",
    "\n",
    "# show results\n",
    "fig, ax_arr = rpt.display(signal, bkps, my_bkps, figsize=(10, 6))\n",
    "plt.show()\n"
   ]
  },
  {
   "cell_type": "code",
   "execution_count": null,
   "metadata": {},
   "outputs": [],
   "source": []
  },
  {
   "cell_type": "code",
   "execution_count": null,
   "metadata": {},
   "outputs": [
    {
     "data": {
      "image/png": "[encoded data removed]",
      "text/plain": [
       "<Figure size 640x480 with 1 Axes>"
      ]
     },
     "metadata": {},
     "output_type": "display_data"
    }
   ],
   "source": [
    "crack1 = [cracks_all[\"Crack 5 Length / mm\"],cracks_all[\"Time\"]]\n",
    "algo = rpt.Pelt(model=\"rbf\").fit(np.array(cracks_all[crack]))\n",
    "my_bkps = algo.predict(pen=3)\n",
    "plt.plot(crack1[1],crack1[0], 'o',markersize=3, label=\"data\")\n",
    "for i in my_bkps:\n",
    "    plt.axvline(x=crack1[1][i-1], color=\"red\")\n",
    "plt.show()"
   ]
  },
  {
   "cell_type": "code",
   "execution_count": null,
   "metadata": {},
   "outputs": [
    {
     "name": "stderr",
     "output_type": "stream",
     "text": [
      "C:\\Users\\borys\\anaconda3\\lib\\site-packages\\IPython\\core\\interactiveshell.py:3457: RankWarning: Polyfit may be poorly conditioned\n",
      "  exec(code_obj, self.user_global_ns, self.user_ns)\n"
     ]
    },
    {
     "data": {
      "text/plain": [
       "(0.0, 4.0)"
      ]
     },
     "execution_count": 69,
     "metadata": {},
     "output_type": "execute_result"
    },
    {
     "data": {
      "image/png": "[encoded data removed]",
      "text/plain": [
       "<Figure size 640x480 with 1 Axes>"
      ]
     },
     "metadata": {},
     "output_type": "display_data"
    }
   ],
   "source": [
    "r_vals =[]\n",
    "fits=[]\n",
    "for i in range(len(crack1[0])):\n",
    "    if crack1[0][i]>0.01:\n",
    "        fit = np.polyfit(crack1[1][i:],crack1[0][i:],1)\n",
    "        fits.append(fit)\n",
    "        corr = np.corrcoef(crack1[0][i:], fit[0]*crack1[1][i:]+fit[1])\n",
    "        corr = corr[0,1]\n",
    "        r_vals.append(corr)\n",
    "\n",
    "plt.plot(crack1[1],crack1[1]*fits[5][0]+fits[5][1], '--',markersize=3, label=\"data\")\n",
    "plt.plot(crack1[1],crack1[0], 'o',markersize=3, label=\"data\")\n",
    "plt.ylim(0,4)"
   ]
  },
  {
   "cell_type": "code",
   "execution_count": null,
   "metadata": {},
   "outputs": [],
   "source": []
  }
 ],
 "metadata": {
  "kernelspec": {
   "display_name": "Python 3 (ipykernel)",
   "language": "python",
   "name": "python3"
  },
  "orig_nbformat": 4
 },
 "nbformat": 4,
 "nbformat_minor": 2
}
